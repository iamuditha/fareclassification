{
 "cells": [
  {
   "cell_type": "code",
   "execution_count": 2,
   "metadata": {},
   "outputs": [],
   "source": [
    "import pandas as pd\n",
    "pd.set_option('display.max_columns', None)\n",
    "df = pd.read_csv('./train.csv')"
   ]
  },
  {
   "cell_type": "code",
   "execution_count": 3,
   "metadata": {},
   "outputs": [],
   "source": [
    "from math import sin, cos, sqrt, atan2, radians\n",
    "def calculate_distance(**kwargs):\n",
    "    R = 6373.0\n",
    "\n",
    "    lat1 = radians(kwargs['pick_lat'])\n",
    "    lon1 = radians(kwargs['pick_lon'])\n",
    "    lat2 = radians(kwargs['drop_lat'])\n",
    "    lon2 = radians(kwargs['drop_lon'])\n",
    "\n",
    "    dlon = lon2 - lon1\n",
    "    dlat = lat2 - lat1\n",
    "\n",
    "    a = sin(dlat / 2)**2 + cos(lat1) * cos(lat2) * sin(dlon / 2)**2\n",
    "    c = 2 * atan2(sqrt(a), sqrt(1 - a))\n",
    "\n",
    "    return R * c"
   ]
  },
  {
   "cell_type": "code",
   "execution_count": 4,
   "metadata": {},
   "outputs": [],
   "source": [
    "df['distance'] = [calculate_distance(**df[['pick_lat', 'pick_lon', 'drop_lat', 'drop_lon']].iloc[i].to_dict()) for i in range(df.shape[0])]\n"
   ]
  },
  {
   "cell_type": "code",
   "execution_count": 5,
   "metadata": {},
   "outputs": [
    {
     "name": "stdout",
     "output_type": "stream",
     "text": [
      "          tripid  additional_fare  duration  meter_waiting  \\\n",
      "0      189123628             10.5     834.0           56.0   \n",
      "1      189125358             10.5     791.0           47.0   \n",
      "2      189125719             10.5    1087.0           80.0   \n",
      "3      189127273             10.5     598.0          271.0   \n",
      "4      189128020              NaN       NaN            NaN   \n",
      "...          ...              ...       ...            ...   \n",
      "17171  213803193             10.5     838.0           93.0   \n",
      "17172  213812756             10.5    2151.0          428.0   \n",
      "17173  213813930             10.5     263.0            9.0   \n",
      "17174  213815405             10.5     858.0          115.0   \n",
      "17175  213817296             10.5     262.0           21.0   \n",
      "\n",
      "       meter_waiting_fare  meter_waiting_till_pickup      pickup_time  \\\n",
      "0                  0.0000                       64.0   11/1/2019 0:20   \n",
      "1                  0.0000                      134.0   11/1/2019 0:56   \n",
      "2                  0.0000                       61.0   11/1/2019 1:08   \n",
      "3                 15.6638                       68.0   11/1/2019 2:27   \n",
      "4                     NaN                        NaN   11/1/2019 3:34   \n",
      "...                   ...                        ...              ...   \n",
      "17171              5.4219                      451.0  1/31/2020 22:07   \n",
      "17172              0.0000                       39.0  1/31/2020 23:07   \n",
      "17173              0.0000                      110.0  1/31/2020 23:21   \n",
      "17174              0.0000                      317.0  1/31/2020 23:39   \n",
      "17175              1.2243                       23.0  1/31/2020 23:49   \n",
      "\n",
      "             drop_time  pick_lat  pick_lon  drop_lat  drop_lon    fare  \\\n",
      "0       11/1/2019 0:34   6.86252   79.8993   6.90330   79.8783  270.32   \n",
      "1       11/1/2019 1:09   6.88589   79.8984   6.91373   79.8923  197.85   \n",
      "2       11/1/2019 1:26   6.90839   79.8651   6.93669   79.9146  301.64   \n",
      "3       11/1/2019 2:37   6.92570   79.8895   6.92748   79.8971   82.30   \n",
      "4       11/1/2019 3:51   6.87441   79.8615   6.84478   79.9290  358.39   \n",
      "...                ...       ...       ...       ...       ...     ...   \n",
      "17171  1/31/2020 22:21   7.29073   80.6367   7.28891   80.6557  198.26   \n",
      "17172  1/31/2020 23:43   6.90569   79.8516   6.95089   79.9389  581.23   \n",
      "17173  1/31/2020 23:25   7.09210   79.9000   7.10135   79.9017   76.20   \n",
      "17174  1/31/2020 23:53   6.94540   79.8768   6.93574   79.9010  133.31   \n",
      "17175  1/31/2020 23:53   6.90257   79.9557   6.90823   79.9374   98.57   \n",
      "\n",
      "         label   distance  \n",
      "0      correct   5.094369  \n",
      "1      correct   3.169052  \n",
      "2      correct   6.307375  \n",
      "3      correct   0.862217  \n",
      "4      correct   8.150340  \n",
      "...        ...        ...  \n",
      "17171  correct   2.106037  \n",
      "17172  correct  10.871789  \n",
      "17173  correct   1.045847  \n",
      "17174  correct   2.879981  \n",
      "17175  correct   2.116539  \n",
      "\n",
      "[17176 rows x 15 columns]\n"
     ]
    }
   ],
   "source": [
    "print(df)\n"
   ]
  },
  {
   "cell_type": "code",
   "execution_count": null,
   "metadata": {},
   "outputs": [],
   "source": []
  }
 ],
 "metadata": {
  "kernelspec": {
   "display_name": "Python 3",
   "language": "python",
   "name": "python3"
  },
  "language_info": {
   "codemirror_mode": {
    "name": "ipython",
    "version": 3
   },
   "file_extension": ".py",
   "mimetype": "text/x-python",
   "name": "python",
   "nbconvert_exporter": "python",
   "pygments_lexer": "ipython3",
   "version": "3.7.6"
  }
 },
 "nbformat": 4,
 "nbformat_minor": 4
}
