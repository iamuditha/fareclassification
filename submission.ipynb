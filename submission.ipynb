{
 "cells": [
  {
   "cell_type": "code",
   "execution_count": 43,
   "metadata": {},
   "outputs": [],
   "source": [
    "import pandas as pd\n",
    "pd.set_option('display.max_columns', None)\n",
    "X_df = pd.read_csv('./train.csv')\n",
    "X_df.head()\n",
    "df = pd.DataFrame(X_df)\n",
    "df = df.drop(['label'], axis = 1) \n"
   ]
  },
  {
   "cell_type": "code",
   "execution_count": 44,
   "metadata": {},
   "outputs": [
    {
     "name": "stdout",
     "output_type": "stream",
     "text": [
      "<class 'pandas.core.frame.DataFrame'>\n",
      "RangeIndex: 17176 entries, 0 to 17175\n",
      "Data columns (total 13 columns):\n",
      " #   Column                     Non-Null Count  Dtype  \n",
      "---  ------                     --------------  -----  \n",
      " 0   tripid                     17176 non-null  int64  \n",
      " 1   additional_fare            16974 non-null  float64\n",
      " 2   duration                   16974 non-null  float64\n",
      " 3   meter_waiting              16974 non-null  float64\n",
      " 4   meter_waiting_fare         16974 non-null  float64\n",
      " 5   meter_waiting_till_pickup  16974 non-null  float64\n",
      " 6   pickup_time                17176 non-null  object \n",
      " 7   drop_time                  17176 non-null  object \n",
      " 8   pick_lat                   17176 non-null  float64\n",
      " 9   pick_lon                   17176 non-null  float64\n",
      " 10  drop_lat                   17176 non-null  float64\n",
      " 11  drop_lon                   17176 non-null  float64\n",
      " 12  fare                       17039 non-null  float64\n",
      "dtypes: float64(10), int64(1), object(2)\n",
      "memory usage: 1.7+ MB\n"
     ]
    }
   ],
   "source": [
    "df.info()"
   ]
  },
  {
   "cell_type": "code",
   "execution_count": 45,
   "metadata": {},
   "outputs": [],
   "source": [
    "from math import sin, cos, sqrt, atan2, radians\n",
    "def calculate_distance(**kwargs):\n",
    "    R = 6373.0\n",
    "\n",
    "    lat1 = radians(kwargs['pick_lat'])\n",
    "    lon1 = radians(kwargs['pick_lon'])\n",
    "    lat2 = radians(kwargs['drop_lat'])\n",
    "    lon2 = radians(kwargs['drop_lon'])\n",
    "\n",
    "    dlon = lon2 - lon1\n",
    "    dlat = lat2 - lat1\n",
    "\n",
    "    a = sin(dlat / 2)**2 + cos(lat1) * cos(lat2) * sin(dlon / 2)**2\n",
    "    c = 2 * atan2(sqrt(a), sqrt(1 - a))\n",
    "\n",
    "    return R * c"
   ]
  },
  {
   "cell_type": "code",
   "execution_count": 48,
   "metadata": {},
   "outputs": [],
   "source": [
    "def format_df(dataFrame):\n",
    "    \n",
    "    df = dataFrame\n",
    "    \n",
    "    #calculatre the distance\n",
    "    df['distance'] = [calculate_distance(**df[['pick_lat', 'pick_lon', 'drop_lat', 'drop_lon']].iloc[i].to_dict()) for i in range(df.shape[0])]\n",
    "    \n",
    "    #calculate the time difference between pickup and drop time in seconds\n",
    "    df['time_difference'] = (pd.DatetimeIndex(df['drop_time']) - pd.DatetimeIndex(df['pickup_time'])).seconds\n",
    "    \n",
    "    #fill the missing values for the duration  \n",
    "    df.loc[(pd.isnull(df.duration)), 'duration'] = df.time_difference\n",
    "\n",
    "    #fill the missing values for additional_fare\n",
    "    df.loc[(pd.isnull(df.additional_fare)), 'additional_fare'] = 10.5\n",
    "    \n",
    "    #fill the missing values for meter_waiting_till_pickup\n",
    "    df.loc[(pd.isnull(df.meter_waiting_till_pickup)), 'meter_waiting_till_pickup'] = 60\n",
    "    \n",
    "    #fill the missing values for meter_waiting\n",
    "    df.loc[(pd.isnull(df.meter_waiting)), 'meter_waiting'] = 120\n",
    "    \n",
    "    #fill the missing values for meter_waiting_fare\n",
    "    df.loc[(pd.isnull(df.meter_waiting_fare)), 'meter_waiting_fare'] = df.meter_waiting * 1.75/60\n",
    "\n",
    "    #fill the missing values for fare\n",
    "    df.loc[(pd.isnull(df.fare)), 'fare'] = df.meter_waiting_fare + df.additional_fare + df.distance\n",
    "\n",
    "    df = df.drop(['tripid','pickup_time','drop_time','pick_lat','pick_lon','drop_lat','drop_lon'], axis = 1) \n",
    "\n",
    "    \n",
    "    return df"
   ]
  },
  {
   "cell_type": "code",
   "execution_count": 62,
   "metadata": {},
   "outputs": [
    {
     "data": {
      "text/html": [
       "<div>\n",
       "<style scoped>\n",
       "    .dataframe tbody tr th:only-of-type {\n",
       "        vertical-align: middle;\n",
       "    }\n",
       "\n",
       "    .dataframe tbody tr th {\n",
       "        vertical-align: top;\n",
       "    }\n",
       "\n",
       "    .dataframe thead th {\n",
       "        text-align: right;\n",
       "    }\n",
       "</style>\n",
       "<table border=\"1\" class=\"dataframe\">\n",
       "  <thead>\n",
       "    <tr style=\"text-align: right;\">\n",
       "      <th></th>\n",
       "      <th>additional_fare</th>\n",
       "      <th>duration</th>\n",
       "      <th>meter_waiting</th>\n",
       "      <th>meter_waiting_fare</th>\n",
       "      <th>meter_waiting_till_pickup</th>\n",
       "      <th>fare</th>\n",
       "      <th>distance</th>\n",
       "      <th>time_difference</th>\n",
       "    </tr>\n",
       "  </thead>\n",
       "  <tbody>\n",
       "    <tr>\n",
       "      <th>0</th>\n",
       "      <td>10.5</td>\n",
       "      <td>834.0</td>\n",
       "      <td>56.0</td>\n",
       "      <td>0.0000</td>\n",
       "      <td>64.0</td>\n",
       "      <td>270.32</td>\n",
       "      <td>5.094369</td>\n",
       "      <td>840</td>\n",
       "    </tr>\n",
       "    <tr>\n",
       "      <th>1</th>\n",
       "      <td>10.5</td>\n",
       "      <td>791.0</td>\n",
       "      <td>47.0</td>\n",
       "      <td>0.0000</td>\n",
       "      <td>134.0</td>\n",
       "      <td>197.85</td>\n",
       "      <td>3.169052</td>\n",
       "      <td>780</td>\n",
       "    </tr>\n",
       "    <tr>\n",
       "      <th>2</th>\n",
       "      <td>10.5</td>\n",
       "      <td>1087.0</td>\n",
       "      <td>80.0</td>\n",
       "      <td>0.0000</td>\n",
       "      <td>61.0</td>\n",
       "      <td>301.64</td>\n",
       "      <td>6.307375</td>\n",
       "      <td>1080</td>\n",
       "    </tr>\n",
       "    <tr>\n",
       "      <th>3</th>\n",
       "      <td>10.5</td>\n",
       "      <td>598.0</td>\n",
       "      <td>271.0</td>\n",
       "      <td>15.6638</td>\n",
       "      <td>68.0</td>\n",
       "      <td>82.30</td>\n",
       "      <td>0.862217</td>\n",
       "      <td>600</td>\n",
       "    </tr>\n",
       "    <tr>\n",
       "      <th>4</th>\n",
       "      <td>10.5</td>\n",
       "      <td>1020.0</td>\n",
       "      <td>120.0</td>\n",
       "      <td>3.5000</td>\n",
       "      <td>60.0</td>\n",
       "      <td>358.39</td>\n",
       "      <td>8.150340</td>\n",
       "      <td>1020</td>\n",
       "    </tr>\n",
       "    <tr>\n",
       "      <th>...</th>\n",
       "      <td>...</td>\n",
       "      <td>...</td>\n",
       "      <td>...</td>\n",
       "      <td>...</td>\n",
       "      <td>...</td>\n",
       "      <td>...</td>\n",
       "      <td>...</td>\n",
       "      <td>...</td>\n",
       "    </tr>\n",
       "    <tr>\n",
       "      <th>17171</th>\n",
       "      <td>10.5</td>\n",
       "      <td>838.0</td>\n",
       "      <td>93.0</td>\n",
       "      <td>5.4219</td>\n",
       "      <td>451.0</td>\n",
       "      <td>198.26</td>\n",
       "      <td>2.106037</td>\n",
       "      <td>840</td>\n",
       "    </tr>\n",
       "    <tr>\n",
       "      <th>17172</th>\n",
       "      <td>10.5</td>\n",
       "      <td>2151.0</td>\n",
       "      <td>428.0</td>\n",
       "      <td>0.0000</td>\n",
       "      <td>39.0</td>\n",
       "      <td>581.23</td>\n",
       "      <td>10.871789</td>\n",
       "      <td>2160</td>\n",
       "    </tr>\n",
       "    <tr>\n",
       "      <th>17173</th>\n",
       "      <td>10.5</td>\n",
       "      <td>263.0</td>\n",
       "      <td>9.0</td>\n",
       "      <td>0.0000</td>\n",
       "      <td>110.0</td>\n",
       "      <td>76.20</td>\n",
       "      <td>1.045847</td>\n",
       "      <td>240</td>\n",
       "    </tr>\n",
       "    <tr>\n",
       "      <th>17174</th>\n",
       "      <td>10.5</td>\n",
       "      <td>858.0</td>\n",
       "      <td>115.0</td>\n",
       "      <td>0.0000</td>\n",
       "      <td>317.0</td>\n",
       "      <td>133.31</td>\n",
       "      <td>2.879981</td>\n",
       "      <td>840</td>\n",
       "    </tr>\n",
       "    <tr>\n",
       "      <th>17175</th>\n",
       "      <td>10.5</td>\n",
       "      <td>262.0</td>\n",
       "      <td>21.0</td>\n",
       "      <td>1.2243</td>\n",
       "      <td>23.0</td>\n",
       "      <td>98.57</td>\n",
       "      <td>2.116539</td>\n",
       "      <td>240</td>\n",
       "    </tr>\n",
       "  </tbody>\n",
       "</table>\n",
       "<p>17176 rows × 8 columns</p>\n",
       "</div>"
      ],
      "text/plain": [
       "       additional_fare  duration  meter_waiting  meter_waiting_fare  \\\n",
       "0                 10.5     834.0           56.0              0.0000   \n",
       "1                 10.5     791.0           47.0              0.0000   \n",
       "2                 10.5    1087.0           80.0              0.0000   \n",
       "3                 10.5     598.0          271.0             15.6638   \n",
       "4                 10.5    1020.0          120.0              3.5000   \n",
       "...                ...       ...            ...                 ...   \n",
       "17171             10.5     838.0           93.0              5.4219   \n",
       "17172             10.5    2151.0          428.0              0.0000   \n",
       "17173             10.5     263.0            9.0              0.0000   \n",
       "17174             10.5     858.0          115.0              0.0000   \n",
       "17175             10.5     262.0           21.0              1.2243   \n",
       "\n",
       "       meter_waiting_till_pickup    fare   distance  time_difference  \n",
       "0                           64.0  270.32   5.094369              840  \n",
       "1                          134.0  197.85   3.169052              780  \n",
       "2                           61.0  301.64   6.307375             1080  \n",
       "3                           68.0   82.30   0.862217              600  \n",
       "4                           60.0  358.39   8.150340             1020  \n",
       "...                          ...     ...        ...              ...  \n",
       "17171                      451.0  198.26   2.106037              840  \n",
       "17172                       39.0  581.23  10.871789             2160  \n",
       "17173                      110.0   76.20   1.045847              240  \n",
       "17174                      317.0  133.31   2.879981              840  \n",
       "17175                       23.0   98.57   2.116539              240  \n",
       "\n",
       "[17176 rows x 8 columns]"
      ]
     },
     "execution_count": 62,
     "metadata": {},
     "output_type": "execute_result"
    }
   ],
   "source": [
    "format_df(df)"
   ]
  },
  {
   "cell_type": "code",
   "execution_count": 50,
   "metadata": {},
   "outputs": [
    {
     "data": {
      "text/plain": [
       "Series([], dtype: float64)"
      ]
     },
     "execution_count": 50,
     "metadata": {},
     "output_type": "execute_result"
    }
   ],
   "source": [
    "null_columns=df.columns[df.isnull().any()]\n",
    "df[null_columns].isnull().sum()"
   ]
  },
  {
   "cell_type": "code",
   "execution_count": 63,
   "metadata": {},
   "outputs": [],
   "source": [
    "from sklearn.preprocessing import StandardScaler\n",
    "from sklearn.impute import SimpleImputer\n",
    "from sklearn.compose import ColumnTransformer\n",
    "\n",
    "from sklearn.linear_model import LogisticRegression\n",
    "from sklearn.multioutput import MultiOutputClassifier\n",
    "\n",
    "from sklearn.pipeline import Pipeline\n",
    "\n",
    "from sklearn.model_selection import train_test_split\n",
    "\n",
    "from sklearn.metrics import roc_curve, roc_auc_score\n",
    "\n",
    "RANDOM_SEED = 6    # Set a random seed for reproducibility!"
   ]
  },
  {
   "cell_type": "code",
   "execution_count": 64,
   "metadata": {},
   "outputs": [
    {
     "data": {
      "text/plain": [
       "tripid                        True\n",
       "additional_fare               True\n",
       "duration                      True\n",
       "meter_waiting                 True\n",
       "meter_waiting_fare            True\n",
       "meter_waiting_till_pickup     True\n",
       "pickup_time                  False\n",
       "drop_time                    False\n",
       "pick_lat                      True\n",
       "pick_lon                      True\n",
       "drop_lat                      True\n",
       "drop_lon                      True\n",
       "fare                          True\n",
       "distance                      True\n",
       "time_difference               True\n",
       "dtype: bool"
      ]
     },
     "execution_count": 64,
     "metadata": {},
     "output_type": "execute_result"
    }
   ],
   "source": [
    "df.dtypes != \"object\""
   ]
  },
  {
   "cell_type": "code",
   "execution_count": 66,
   "metadata": {},
   "outputs": [
    {
     "name": "stdout",
     "output_type": "stream",
     "text": [
      "['tripid' 'additional_fare' 'duration' 'meter_waiting'\n",
      " 'meter_waiting_fare' 'meter_waiting_till_pickup' 'pick_lat' 'pick_lon'\n",
      " 'drop_lat' 'drop_lon' 'fare' 'distance' 'time_difference']\n"
     ]
    }
   ],
   "source": [
    "numeric_cols = df.columns[df.dtypes != \"object\"].values\n",
    "print(numeric_cols)"
   ]
  },
  {
   "cell_type": "code",
   "execution_count": 54,
   "metadata": {},
   "outputs": [
    {
     "data": {
      "text/html": [
       "<div>\n",
       "<style scoped>\n",
       "    .dataframe tbody tr th:only-of-type {\n",
       "        vertical-align: middle;\n",
       "    }\n",
       "\n",
       "    .dataframe tbody tr th {\n",
       "        vertical-align: top;\n",
       "    }\n",
       "\n",
       "    .dataframe thead th {\n",
       "        text-align: right;\n",
       "    }\n",
       "</style>\n",
       "<table border=\"1\" class=\"dataframe\">\n",
       "  <thead>\n",
       "    <tr style=\"text-align: right;\">\n",
       "      <th></th>\n",
       "      <th>label</th>\n",
       "    </tr>\n",
       "  </thead>\n",
       "  <tbody>\n",
       "    <tr>\n",
       "      <th>0</th>\n",
       "      <td>correct</td>\n",
       "    </tr>\n",
       "    <tr>\n",
       "      <th>1</th>\n",
       "      <td>correct</td>\n",
       "    </tr>\n",
       "    <tr>\n",
       "      <th>2</th>\n",
       "      <td>correct</td>\n",
       "    </tr>\n",
       "    <tr>\n",
       "      <th>3</th>\n",
       "      <td>correct</td>\n",
       "    </tr>\n",
       "    <tr>\n",
       "      <th>4</th>\n",
       "      <td>correct</td>\n",
       "    </tr>\n",
       "  </tbody>\n",
       "</table>\n",
       "</div>"
      ],
      "text/plain": [
       "     label\n",
       "0  correct\n",
       "1  correct\n",
       "2  correct\n",
       "3  correct\n",
       "4  correct"
      ]
     },
     "execution_count": 54,
     "metadata": {},
     "output_type": "execute_result"
    }
   ],
   "source": []
  },
  {
   "cell_type": "code",
   "execution_count": 56,
   "metadata": {},
   "outputs": [
    {
     "name": "stderr",
     "output_type": "stream",
     "text": [
      "C:\\Users\\X512\\anaconda3\\lib\\site-packages\\ipykernel_launcher.py:3: DataConversionWarning: A column-vector y was passed when a 1d array was expected. Please change the shape of y to (n_samples,), for example using ravel().\n",
      "  This is separate from the ipykernel package so we can avoid doing imports until\n"
     ]
    },
    {
     "data": {
      "text/plain": [
       "array(['incorrect', 'correct', 'correct', ..., 'correct', 'correct',\n",
       "       'correct'], dtype=object)"
      ]
     },
     "execution_count": 56,
     "metadata": {},
     "output_type": "execute_result"
    }
   ],
   "source": []
  },
  {
   "cell_type": "code",
   "execution_count": 58,
   "metadata": {},
   "outputs": [],
   "source": []
  },
  {
   "cell_type": "code",
   "execution_count": null,
   "metadata": {},
   "outputs": [],
   "source": []
  }
 ],
 "metadata": {
  "kernelspec": {
   "display_name": "Python 3",
   "language": "python",
   "name": "python3"
  },
  "language_info": {
   "codemirror_mode": {
    "name": "ipython",
    "version": 3
   },
   "file_extension": ".py",
   "mimetype": "text/x-python",
   "name": "python",
   "nbconvert_exporter": "python",
   "pygments_lexer": "ipython3",
   "version": "3.7.6"
  }
 },
 "nbformat": 4,
 "nbformat_minor": 4
}
