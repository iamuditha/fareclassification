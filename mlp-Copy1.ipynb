{
 "cells": [
  {
   "cell_type": "code",
   "execution_count": 1,
   "metadata": {},
   "outputs": [],
   "source": [
    "from pathlib import Path\n",
    "\n",
    "import numpy as np\n",
    "import pandas as pd\n",
    "# DATA_PATH = Path.cwd().parent / \"ML project\" \n",
    "pd.set_option(\"display.max_columns\", 100)\n",
    "from sklearn.metrics import f1_score"
   ]
  },
  {
   "cell_type": "code",
   "execution_count": 2,
   "metadata": {},
   "outputs": [],
   "source": [
    "train_df = pd.read_csv(\n",
    "     \"./train.csv\", \n",
    "    index_col=\"tripid\"\n",
    ")\n",
    "\n",
    "train_df['label'] = train_df['label'].map({\"correct\":1, \"incorrect\":0})\n",
    "train_df_cols = train_df.columns.values\n",
    "li = list(train_df_cols)\n",
    "features_df = train_df[li[0:-1]]\n",
    "labels_df = train_df[li[-1]]\n",
    "# features_df"
   ]
  },
  {
   "cell_type": "code",
   "execution_count": 3,
   "metadata": {},
   "outputs": [],
   "source": [
    "from math import sin, cos, sqrt, atan2, radians\n",
    "def calculate_distance(**kwargs):\n",
    "    R = 6373.0\n",
    "\n",
    "    lat1 = radians(kwargs['pick_lat'])\n",
    "    lon1 = radians(kwargs['pick_lon'])\n",
    "    lat2 = radians(kwargs['drop_lat'])\n",
    "    lon2 = radians(kwargs['drop_lon'])\n",
    "\n",
    "    dlon = lon2 - lon1\n",
    "    dlat = lat2 - lat1\n",
    "\n",
    "    a = sin(dlat / 2)**2 + cos(lat1) * cos(lat2) * sin(dlon / 2)**2\n",
    "    c = 2 * atan2(sqrt(a), sqrt(1 - a))\n",
    "\n",
    "    return R * c\n"
   ]
  },
  {
   "cell_type": "code",
   "execution_count": 4,
   "metadata": {},
   "outputs": [],
   "source": [
    "def format_df(dataFrame):\n",
    "    \n",
    "    df = dataFrame\n",
    "    df = df[~df.index.duplicated()]\n",
    "    \n",
    "    #calculatre the distance\n",
    "    df['distance'] = [calculate_distance(**df[['pick_lat', 'pick_lon', 'drop_lat', 'drop_lon']].iloc[i].to_dict()) for i in range(df.shape[0])]\n",
    "    \n",
    "    #calculate the time difference between pickup and drop time in seconds\n",
    "    df['time_difference'] = (pd.DatetimeIndex(df['drop_time']) - pd.DatetimeIndex(df['pickup_time'])).seconds\n",
    "    \n",
    "    #fill the missing values for the duration  \n",
    "    df.loc[(pd.isnull(df.duration)), 'duration'] = df['duration'].mean()\n",
    "\n",
    "    #fill the missing values for additional_fare\n",
    "    df.loc[(pd.isnull(df.additional_fare)), 'additional_fare'] = df['additional_fare'].mean()\n",
    "    \n",
    "    #fill the missing values for meter_waiting_till_pickup\n",
    "    df.loc[(pd.isnull(df.meter_waiting_till_pickup)), 'meter_waiting_till_pickup'] = df['meter_waiting_till_pickup'].mean()\n",
    "    \n",
    "    #fill the missing values for meter_waiting\n",
    "    df.loc[(pd.isnull(df.meter_waiting)), 'meter_waiting'] = df['meter_waiting'].mean()\n",
    "    \n",
    "\n",
    "    #fill the missing values for meter_waiting_fare\n",
    "    df.loc[(pd.isnull(df.meter_waiting_fare)), 'meter_waiting_fare'] = df['meter_waiting_fare'].mean()\n",
    "\n",
    "    #fill the missing values for fare\n",
    "    df.loc[(pd.isnull(df.fare)), 'fare'] = df['fare'].mean()\n",
    "    \n",
    "\n",
    "    df = df.drop(['pickup_time','drop_time','pick_lat','pick_lon','drop_lat','drop_lon'], axis = 1) \n",
    "    \n",
    "    \n",
    "    return df"
   ]
  },
  {
   "cell_type": "code",
   "execution_count": 5,
   "metadata": {},
   "outputs": [
    {
     "name": "stderr",
     "output_type": "stream",
     "text": [
      "C:\\Users\\X512\\anaconda3\\lib\\site-packages\\ipykernel_launcher.py:7: SettingWithCopyWarning: \n",
      "A value is trying to be set on a copy of a slice from a DataFrame.\n",
      "Try using .loc[row_indexer,col_indexer] = value instead\n",
      "\n",
      "See the caveats in the documentation: https://pandas.pydata.org/pandas-docs/stable/user_guide/indexing.html#returning-a-view-versus-a-copy\n",
      "  import sys\n",
      "C:\\Users\\X512\\anaconda3\\lib\\site-packages\\ipykernel_launcher.py:10: SettingWithCopyWarning: \n",
      "A value is trying to be set on a copy of a slice from a DataFrame.\n",
      "Try using .loc[row_indexer,col_indexer] = value instead\n",
      "\n",
      "See the caveats in the documentation: https://pandas.pydata.org/pandas-docs/stable/user_guide/indexing.html#returning-a-view-versus-a-copy\n",
      "  # Remove the CWD from sys.path while we load stuff.\n",
      "C:\\Users\\X512\\anaconda3\\lib\\site-packages\\pandas\\core\\indexing.py:965: SettingWithCopyWarning: \n",
      "A value is trying to be set on a copy of a slice from a DataFrame.\n",
      "Try using .loc[row_indexer,col_indexer] = value instead\n",
      "\n",
      "See the caveats in the documentation: https://pandas.pydata.org/pandas-docs/stable/user_guide/indexing.html#returning-a-view-versus-a-copy\n",
      "  self.obj[item] = s\n"
     ]
    },
    {
     "data": {
      "text/html": [
       "<div>\n",
       "<style scoped>\n",
       "    .dataframe tbody tr th:only-of-type {\n",
       "        vertical-align: middle;\n",
       "    }\n",
       "\n",
       "    .dataframe tbody tr th {\n",
       "        vertical-align: top;\n",
       "    }\n",
       "\n",
       "    .dataframe thead th {\n",
       "        text-align: right;\n",
       "    }\n",
       "</style>\n",
       "<table border=\"1\" class=\"dataframe\">\n",
       "  <thead>\n",
       "    <tr style=\"text-align: right;\">\n",
       "      <th></th>\n",
       "      <th>additional_fare</th>\n",
       "      <th>duration</th>\n",
       "      <th>meter_waiting</th>\n",
       "      <th>meter_waiting_fare</th>\n",
       "      <th>meter_waiting_till_pickup</th>\n",
       "      <th>fare</th>\n",
       "      <th>distance</th>\n",
       "      <th>time_difference</th>\n",
       "    </tr>\n",
       "    <tr>\n",
       "      <th>tripid</th>\n",
       "      <th></th>\n",
       "      <th></th>\n",
       "      <th></th>\n",
       "      <th></th>\n",
       "      <th></th>\n",
       "      <th></th>\n",
       "      <th></th>\n",
       "      <th></th>\n",
       "    </tr>\n",
       "  </thead>\n",
       "  <tbody>\n",
       "    <tr>\n",
       "      <th>189123628</th>\n",
       "      <td>10.50000</td>\n",
       "      <td>834.000000</td>\n",
       "      <td>56.000000</td>\n",
       "      <td>0.000000</td>\n",
       "      <td>64.000000</td>\n",
       "      <td>270.32</td>\n",
       "      <td>5.094369</td>\n",
       "      <td>840</td>\n",
       "    </tr>\n",
       "    <tr>\n",
       "      <th>189125358</th>\n",
       "      <td>10.50000</td>\n",
       "      <td>791.000000</td>\n",
       "      <td>47.000000</td>\n",
       "      <td>0.000000</td>\n",
       "      <td>134.000000</td>\n",
       "      <td>197.85</td>\n",
       "      <td>3.169052</td>\n",
       "      <td>780</td>\n",
       "    </tr>\n",
       "    <tr>\n",
       "      <th>189125719</th>\n",
       "      <td>10.50000</td>\n",
       "      <td>1087.000000</td>\n",
       "      <td>80.000000</td>\n",
       "      <td>0.000000</td>\n",
       "      <td>61.000000</td>\n",
       "      <td>301.64</td>\n",
       "      <td>6.307375</td>\n",
       "      <td>1080</td>\n",
       "    </tr>\n",
       "    <tr>\n",
       "      <th>189127273</th>\n",
       "      <td>10.50000</td>\n",
       "      <td>598.000000</td>\n",
       "      <td>271.000000</td>\n",
       "      <td>15.663800</td>\n",
       "      <td>68.000000</td>\n",
       "      <td>82.30</td>\n",
       "      <td>0.862217</td>\n",
       "      <td>600</td>\n",
       "    </tr>\n",
       "    <tr>\n",
       "      <th>189128020</th>\n",
       "      <td>13.72022</td>\n",
       "      <td>1702.923634</td>\n",
       "      <td>629.040422</td>\n",
       "      <td>32.057597</td>\n",
       "      <td>112.468446</td>\n",
       "      <td>358.39</td>\n",
       "      <td>8.150340</td>\n",
       "      <td>1020</td>\n",
       "    </tr>\n",
       "    <tr>\n",
       "      <th>...</th>\n",
       "      <td>...</td>\n",
       "      <td>...</td>\n",
       "      <td>...</td>\n",
       "      <td>...</td>\n",
       "      <td>...</td>\n",
       "      <td>...</td>\n",
       "      <td>...</td>\n",
       "      <td>...</td>\n",
       "    </tr>\n",
       "    <tr>\n",
       "      <th>213803193</th>\n",
       "      <td>10.50000</td>\n",
       "      <td>838.000000</td>\n",
       "      <td>93.000000</td>\n",
       "      <td>5.421900</td>\n",
       "      <td>451.000000</td>\n",
       "      <td>198.26</td>\n",
       "      <td>2.106037</td>\n",
       "      <td>840</td>\n",
       "    </tr>\n",
       "    <tr>\n",
       "      <th>213812756</th>\n",
       "      <td>10.50000</td>\n",
       "      <td>2151.000000</td>\n",
       "      <td>428.000000</td>\n",
       "      <td>0.000000</td>\n",
       "      <td>39.000000</td>\n",
       "      <td>581.23</td>\n",
       "      <td>10.871789</td>\n",
       "      <td>2160</td>\n",
       "    </tr>\n",
       "    <tr>\n",
       "      <th>213813930</th>\n",
       "      <td>10.50000</td>\n",
       "      <td>263.000000</td>\n",
       "      <td>9.000000</td>\n",
       "      <td>0.000000</td>\n",
       "      <td>110.000000</td>\n",
       "      <td>76.20</td>\n",
       "      <td>1.045847</td>\n",
       "      <td>240</td>\n",
       "    </tr>\n",
       "    <tr>\n",
       "      <th>213815405</th>\n",
       "      <td>10.50000</td>\n",
       "      <td>858.000000</td>\n",
       "      <td>115.000000</td>\n",
       "      <td>0.000000</td>\n",
       "      <td>317.000000</td>\n",
       "      <td>133.31</td>\n",
       "      <td>2.879981</td>\n",
       "      <td>840</td>\n",
       "    </tr>\n",
       "    <tr>\n",
       "      <th>213817296</th>\n",
       "      <td>10.50000</td>\n",
       "      <td>262.000000</td>\n",
       "      <td>21.000000</td>\n",
       "      <td>1.224300</td>\n",
       "      <td>23.000000</td>\n",
       "      <td>98.57</td>\n",
       "      <td>2.116539</td>\n",
       "      <td>240</td>\n",
       "    </tr>\n",
       "  </tbody>\n",
       "</table>\n",
       "<p>17172 rows × 8 columns</p>\n",
       "</div>"
      ],
      "text/plain": [
       "           additional_fare     duration  meter_waiting  meter_waiting_fare  \\\n",
       "tripid                                                                       \n",
       "189123628         10.50000   834.000000      56.000000            0.000000   \n",
       "189125358         10.50000   791.000000      47.000000            0.000000   \n",
       "189125719         10.50000  1087.000000      80.000000            0.000000   \n",
       "189127273         10.50000   598.000000     271.000000           15.663800   \n",
       "189128020         13.72022  1702.923634     629.040422           32.057597   \n",
       "...                    ...          ...            ...                 ...   \n",
       "213803193         10.50000   838.000000      93.000000            5.421900   \n",
       "213812756         10.50000  2151.000000     428.000000            0.000000   \n",
       "213813930         10.50000   263.000000       9.000000            0.000000   \n",
       "213815405         10.50000   858.000000     115.000000            0.000000   \n",
       "213817296         10.50000   262.000000      21.000000            1.224300   \n",
       "\n",
       "           meter_waiting_till_pickup    fare   distance  time_difference  \n",
       "tripid                                                                    \n",
       "189123628                  64.000000  270.32   5.094369              840  \n",
       "189125358                 134.000000  197.85   3.169052              780  \n",
       "189125719                  61.000000  301.64   6.307375             1080  \n",
       "189127273                  68.000000   82.30   0.862217              600  \n",
       "189128020                 112.468446  358.39   8.150340             1020  \n",
       "...                              ...     ...        ...              ...  \n",
       "213803193                 451.000000  198.26   2.106037              840  \n",
       "213812756                  39.000000  581.23  10.871789             2160  \n",
       "213813930                 110.000000   76.20   1.045847              240  \n",
       "213815405                 317.000000  133.31   2.879981              840  \n",
       "213817296                  23.000000   98.57   2.116539              240  \n",
       "\n",
       "[17172 rows x 8 columns]"
      ]
     },
     "execution_count": 5,
     "metadata": {},
     "output_type": "execute_result"
    }
   ],
   "source": [
    "newdf = format_df(features_df)\n",
    "labels_df = labels_df[~labels_df.index.duplicated()]\n",
    "newdf"
   ]
  },
  {
   "cell_type": "code",
   "execution_count": 6,
   "metadata": {},
   "outputs": [],
   "source": [
    "from sklearn.preprocessing import StandardScaler\n",
    "from sklearn.impute import SimpleImputer\n",
    "from sklearn.compose import ColumnTransformer\n",
    "\n",
    "from sklearn.linear_model import LogisticRegression\n",
    "from sklearn.multioutput import MultiOutputClassifier\n",
    "\n",
    "from sklearn.pipeline import Pipeline\n",
    "\n",
    "from sklearn.model_selection import train_test_split\n",
    "\n",
    "from sklearn.metrics import roc_curve, roc_auc_score\n",
    "\n",
    "from sklearn.preprocessing import RobustScaler\n",
    "\n",
    "RANDOM_SEED = 6  "
   ]
  },
  {
   "cell_type": "code",
   "execution_count": 7,
   "metadata": {},
   "outputs": [
    {
     "ename": "KeyError",
     "evalue": "\"['plain_distance'] not in index\"",
     "output_type": "error",
     "traceback": [
      "\u001b[1;31m---------------------------------------------------------------------------\u001b[0m",
      "\u001b[1;31mKeyError\u001b[0m                                  Traceback (most recent call last)",
      "\u001b[1;32m<ipython-input-7-7dac2e36a57a>\u001b[0m in \u001b[0;36m<module>\u001b[1;34m\u001b[0m\n\u001b[0;32m      1\u001b[0m \u001b[0mscaler\u001b[0m \u001b[1;33m=\u001b[0m \u001b[0mRobustScaler\u001b[0m\u001b[1;33m(\u001b[0m\u001b[1;33m)\u001b[0m\u001b[1;33m\u001b[0m\u001b[1;33m\u001b[0m\u001b[0m\n\u001b[1;32m----> 2\u001b[1;33m \u001b[0mnewdf\u001b[0m\u001b[1;33m[\u001b[0m\u001b[1;33m[\u001b[0m\u001b[1;34m'additional_fare'\u001b[0m\u001b[1;33m,\u001b[0m \u001b[1;34m'duration'\u001b[0m\u001b[1;33m,\u001b[0m\u001b[1;34m'meter_waiting'\u001b[0m\u001b[1;33m,\u001b[0m\u001b[1;34m'meter_waiting_fare'\u001b[0m\u001b[1;33m,\u001b[0m\u001b[1;34m'meter_waiting_till_pickup'\u001b[0m\u001b[1;33m,\u001b[0m\u001b[1;34m'fare'\u001b[0m\u001b[1;33m,\u001b[0m\u001b[1;34m'distance'\u001b[0m\u001b[1;33m,\u001b[0m\u001b[1;34m'time_difference'\u001b[0m\u001b[1;33m,\u001b[0m\u001b[1;34m'plain_distance'\u001b[0m\u001b[1;33m]\u001b[0m\u001b[1;33m]\u001b[0m \u001b[1;33m=\u001b[0m \u001b[0mscaler\u001b[0m\u001b[1;33m.\u001b[0m\u001b[0mfit_transform\u001b[0m\u001b[1;33m(\u001b[0m\u001b[0mnewdf\u001b[0m\u001b[1;33m[\u001b[0m\u001b[1;33m[\u001b[0m\u001b[1;34m'additional_fare'\u001b[0m\u001b[1;33m,\u001b[0m \u001b[1;34m'duration'\u001b[0m\u001b[1;33m,\u001b[0m\u001b[1;34m'meter_waiting'\u001b[0m\u001b[1;33m,\u001b[0m\u001b[1;34m'meter_waiting_fare'\u001b[0m\u001b[1;33m,\u001b[0m\u001b[1;34m'meter_waiting_till_pickup'\u001b[0m\u001b[1;33m,\u001b[0m\u001b[1;34m'fare'\u001b[0m\u001b[1;33m,\u001b[0m\u001b[1;34m'distance'\u001b[0m\u001b[1;33m,\u001b[0m\u001b[1;34m'time_difference'\u001b[0m\u001b[1;33m,\u001b[0m\u001b[1;34m'plain_distance'\u001b[0m\u001b[1;33m]\u001b[0m\u001b[1;33m]\u001b[0m\u001b[1;33m)\u001b[0m\u001b[1;33m\u001b[0m\u001b[1;33m\u001b[0m\u001b[0m\n\u001b[0m\u001b[0;32m      3\u001b[0m \u001b[1;31m# numeric_cols = newdf.columns[newdf.dtypes != \"object\"].values\u001b[0m\u001b[1;33m\u001b[0m\u001b[1;33m\u001b[0m\u001b[1;33m\u001b[0m\u001b[0m\n",
      "\u001b[1;32m~\\anaconda3\\lib\\site-packages\\pandas\\core\\frame.py\u001b[0m in \u001b[0;36m__getitem__\u001b[1;34m(self, key)\u001b[0m\n\u001b[0;32m   2804\u001b[0m             \u001b[1;32mif\u001b[0m \u001b[0mis_iterator\u001b[0m\u001b[1;33m(\u001b[0m\u001b[0mkey\u001b[0m\u001b[1;33m)\u001b[0m\u001b[1;33m:\u001b[0m\u001b[1;33m\u001b[0m\u001b[1;33m\u001b[0m\u001b[0m\n\u001b[0;32m   2805\u001b[0m                 \u001b[0mkey\u001b[0m \u001b[1;33m=\u001b[0m \u001b[0mlist\u001b[0m\u001b[1;33m(\u001b[0m\u001b[0mkey\u001b[0m\u001b[1;33m)\u001b[0m\u001b[1;33m\u001b[0m\u001b[1;33m\u001b[0m\u001b[0m\n\u001b[1;32m-> 2806\u001b[1;33m             \u001b[0mindexer\u001b[0m \u001b[1;33m=\u001b[0m \u001b[0mself\u001b[0m\u001b[1;33m.\u001b[0m\u001b[0mloc\u001b[0m\u001b[1;33m.\u001b[0m\u001b[0m_get_listlike_indexer\u001b[0m\u001b[1;33m(\u001b[0m\u001b[0mkey\u001b[0m\u001b[1;33m,\u001b[0m \u001b[0maxis\u001b[0m\u001b[1;33m=\u001b[0m\u001b[1;36m1\u001b[0m\u001b[1;33m,\u001b[0m \u001b[0mraise_missing\u001b[0m\u001b[1;33m=\u001b[0m\u001b[1;32mTrue\u001b[0m\u001b[1;33m)\u001b[0m\u001b[1;33m[\u001b[0m\u001b[1;36m1\u001b[0m\u001b[1;33m]\u001b[0m\u001b[1;33m\u001b[0m\u001b[1;33m\u001b[0m\u001b[0m\n\u001b[0m\u001b[0;32m   2807\u001b[0m \u001b[1;33m\u001b[0m\u001b[0m\n\u001b[0;32m   2808\u001b[0m         \u001b[1;31m# take() does not accept boolean indexers\u001b[0m\u001b[1;33m\u001b[0m\u001b[1;33m\u001b[0m\u001b[1;33m\u001b[0m\u001b[0m\n",
      "\u001b[1;32m~\\anaconda3\\lib\\site-packages\\pandas\\core\\indexing.py\u001b[0m in \u001b[0;36m_get_listlike_indexer\u001b[1;34m(self, key, axis, raise_missing)\u001b[0m\n\u001b[0;32m   1550\u001b[0m \u001b[1;33m\u001b[0m\u001b[0m\n\u001b[0;32m   1551\u001b[0m         self._validate_read_indexer(\n\u001b[1;32m-> 1552\u001b[1;33m             \u001b[0mkeyarr\u001b[0m\u001b[1;33m,\u001b[0m \u001b[0mindexer\u001b[0m\u001b[1;33m,\u001b[0m \u001b[0mo\u001b[0m\u001b[1;33m.\u001b[0m\u001b[0m_get_axis_number\u001b[0m\u001b[1;33m(\u001b[0m\u001b[0maxis\u001b[0m\u001b[1;33m)\u001b[0m\u001b[1;33m,\u001b[0m \u001b[0mraise_missing\u001b[0m\u001b[1;33m=\u001b[0m\u001b[0mraise_missing\u001b[0m\u001b[1;33m\u001b[0m\u001b[1;33m\u001b[0m\u001b[0m\n\u001b[0m\u001b[0;32m   1553\u001b[0m         )\n\u001b[0;32m   1554\u001b[0m         \u001b[1;32mreturn\u001b[0m \u001b[0mkeyarr\u001b[0m\u001b[1;33m,\u001b[0m \u001b[0mindexer\u001b[0m\u001b[1;33m\u001b[0m\u001b[1;33m\u001b[0m\u001b[0m\n",
      "\u001b[1;32m~\\anaconda3\\lib\\site-packages\\pandas\\core\\indexing.py\u001b[0m in \u001b[0;36m_validate_read_indexer\u001b[1;34m(self, key, indexer, axis, raise_missing)\u001b[0m\n\u001b[0;32m   1643\u001b[0m             \u001b[1;32mif\u001b[0m \u001b[1;32mnot\u001b[0m \u001b[1;33m(\u001b[0m\u001b[0mself\u001b[0m\u001b[1;33m.\u001b[0m\u001b[0mname\u001b[0m \u001b[1;33m==\u001b[0m \u001b[1;34m\"loc\"\u001b[0m \u001b[1;32mand\u001b[0m \u001b[1;32mnot\u001b[0m \u001b[0mraise_missing\u001b[0m\u001b[1;33m)\u001b[0m\u001b[1;33m:\u001b[0m\u001b[1;33m\u001b[0m\u001b[1;33m\u001b[0m\u001b[0m\n\u001b[0;32m   1644\u001b[0m                 \u001b[0mnot_found\u001b[0m \u001b[1;33m=\u001b[0m \u001b[0mlist\u001b[0m\u001b[1;33m(\u001b[0m\u001b[0mset\u001b[0m\u001b[1;33m(\u001b[0m\u001b[0mkey\u001b[0m\u001b[1;33m)\u001b[0m \u001b[1;33m-\u001b[0m \u001b[0mset\u001b[0m\u001b[1;33m(\u001b[0m\u001b[0max\u001b[0m\u001b[1;33m)\u001b[0m\u001b[1;33m)\u001b[0m\u001b[1;33m\u001b[0m\u001b[1;33m\u001b[0m\u001b[0m\n\u001b[1;32m-> 1645\u001b[1;33m                 \u001b[1;32mraise\u001b[0m \u001b[0mKeyError\u001b[0m\u001b[1;33m(\u001b[0m\u001b[1;34mf\"{not_found} not in index\"\u001b[0m\u001b[1;33m)\u001b[0m\u001b[1;33m\u001b[0m\u001b[1;33m\u001b[0m\u001b[0m\n\u001b[0m\u001b[0;32m   1646\u001b[0m \u001b[1;33m\u001b[0m\u001b[0m\n\u001b[0;32m   1647\u001b[0m             \u001b[1;31m# we skip the warning on Categorical/Interval\u001b[0m\u001b[1;33m\u001b[0m\u001b[1;33m\u001b[0m\u001b[1;33m\u001b[0m\u001b[0m\n",
      "\u001b[1;31mKeyError\u001b[0m: \"['plain_distance'] not in index\""
     ]
    }
   ],
   "source": [
    "scaler = RobustScaler()\n",
    "newdf[['additional_fare', 'duration','meter_waiting','meter_waiting_fare','meter_waiting_till_pickup','fare','distance','time_difference','plain_distance']] = scaler.fit_transform(newdf[['additional_fare', 'duration','meter_waiting','meter_waiting_fare','meter_waiting_till_pickup','fare','distance','time_difference','plain_distance']])\n",
    "# numeric_cols = newdf.columns[newdf.dtypes != \"object\"].values"
   ]
  },
  {
   "cell_type": "code",
   "execution_count": null,
   "metadata": {},
   "outputs": [],
   "source": [
    "X_train, X_eval, y_train, y_eval = train_test_split(\n",
    "    newdf,\n",
    "    labels_df,\n",
    "    test_size=0.33,\n",
    "    shuffle=True,\n",
    "    stratify=labels_df,\n",
    "    random_state=RANDOM_SEED\n",
    ")"
   ]
  },
  {
   "cell_type": "code",
   "execution_count": null,
   "metadata": {},
   "outputs": [],
   "source": [
    "#Importing MLPClassifier\n",
    "from sklearn.neural_network import MLPClassifier\n",
    "\n",
    "#Initializing the MLPClassifier\n",
    "classifier = MLPClassifier(hidden_layer_sizes=(150,100,50), max_iter=500,activation = 'relu',solver='adam',random_state=1)"
   ]
  },
  {
   "cell_type": "code",
   "execution_count": null,
   "metadata": {},
   "outputs": [],
   "source": [
    "#Fitting the training data to the network\n",
    "classifier.fit(X_train, y_train)"
   ]
  },
  {
   "cell_type": "code",
   "execution_count": null,
   "metadata": {},
   "outputs": [],
   "source": [
    "#Predicting y for X_val\n",
    "y_pred = classifier.predict(X_eval)"
   ]
  },
  {
   "cell_type": "code",
   "execution_count": 12,
   "metadata": {},
   "outputs": [
    {
     "name": "stdout",
     "output_type": "stream",
     "text": [
      "0.9701970682458013\n"
     ]
    }
   ],
   "source": [
    "#Importing Confusion Matrix\n",
    "from sklearn.metrics import confusion_matrix\n",
    "#Comparing the predictions against the actual observations in y_val\n",
    "cm = confusion_matrix(y_pred, y_eval)\n",
    "\n",
    "#Printing the accuracy\n",
    "# print(\"Accuracy of MLPClassifier : '', accuracy(cm))\n",
    "f1 = f1_score(y_eval, y_pred)\n",
    "print(f1)"
   ]
  },
  {
   "cell_type": "code",
   "execution_count": 13,
   "metadata": {},
   "outputs": [],
   "source": [
    "test_features = pd.read_csv(\"./test.csv\", \n",
    "                               index_col=\"tripid\")"
   ]
  },
  {
   "cell_type": "code",
   "execution_count": 14,
   "metadata": {},
   "outputs": [],
   "source": [
    "testdf = format_df(test_features)\n"
   ]
  },
  {
   "cell_type": "code",
   "execution_count": 16,
   "metadata": {},
   "outputs": [],
   "source": [
    "scaler = RobustScaler()\n",
    "testdf[['additional_fare', 'duration','meter_waiting','meter_waiting_fare','meter_waiting_till_pickup','fare','distance','time_difference','plain_distance']] = scaler.fit_transform(testdf[['additional_fare', 'duration','meter_waiting','meter_waiting_fare','meter_waiting_till_pickup','fare','distance','time_difference','plain_distance']])\n",
    "# numeric_cols = newdf.columns[newdf.dtypes != \"object\"].values"
   ]
  },
  {
   "cell_type": "code",
   "execution_count": 17,
   "metadata": {},
   "outputs": [
    {
     "name": "stdout",
     "output_type": "stream",
     "text": [
      "           prediction\n",
      "tripid               \n",
      "213284604           1\n",
      "213286352           1\n",
      "213293973           1\n",
      "213294622           1\n",
      "213298687           1\n",
      "...               ...\n",
      "222856243           1\n",
      "222857785           1\n",
      "222858416           1\n",
      "222858691           1\n",
      "222860703           1\n",
      "\n",
      "[8576 rows x 1 columns]\n"
     ]
    }
   ],
   "source": [
    "test_probas = classifier.predict(testdf)\n",
    "test_preds = pd.DataFrame(\n",
    "    {'prediction':test_probas},\n",
    "    index = test_features.index\n",
    ")\n",
    "print(test_preds)"
   ]
  },
  {
   "cell_type": "code",
   "execution_count": 18,
   "metadata": {},
   "outputs": [],
   "source": [
    "test_preds.to_csv('./mlpnew1.csv', index=True)"
   ]
  },
  {
   "cell_type": "code",
   "execution_count": null,
   "metadata": {},
   "outputs": [],
   "source": []
  }
 ],
 "metadata": {
  "kernelspec": {
   "display_name": "Python 3",
   "language": "python",
   "name": "python3"
  },
  "language_info": {
   "codemirror_mode": {
    "name": "ipython",
    "version": 3
   },
   "file_extension": ".py",
   "mimetype": "text/x-python",
   "name": "python",
   "nbconvert_exporter": "python",
   "pygments_lexer": "ipython3",
   "version": "3.7.6"
  }
 },
 "nbformat": 4,
 "nbformat_minor": 4
}
