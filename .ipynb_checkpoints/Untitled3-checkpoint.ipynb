{
 "cells": [
  {
   "cell_type": "code",
   "execution_count": 1,
   "metadata": {},
   "outputs": [],
   "source": [
    "from pathlib import Path\n",
    "\n",
    "import numpy as np\n",
    "import pandas as pd\n",
    "# DATA_PATH = Path.cwd().parent / \"ML project\" \n",
    "pd.set_option(\"display.max_columns\", 100)\n",
    "from sklearn.metrics import f1_score"
   ]
  },
  {
   "cell_type": "code",
   "execution_count": 2,
   "metadata": {},
   "outputs": [],
   "source": [
    "train_df = pd.read_csv(\n",
    "     \"./train.csv\", \n",
    "    index_col=\"tripid\"\n",
    ")\n",
    "\n",
    "train_df['label'] = train_df['label'].map({\"correct\":1, \"incorrect\":0})\n",
    "train_df_cols = train_df.columns.values\n",
    "li = list(train_df_cols)\n",
    "features_df = train_df[li[0:-1]]\n",
    "labels_df = train_df[li[-1]]"
   ]
  },
  {
   "cell_type": "code",
   "execution_count": 3,
   "metadata": {},
   "outputs": [],
   "source": [
    "from math import sin, cos, sqrt, atan2, radians\n",
    "def calculate_distance(**kwargs):\n",
    "    R = 6373.0\n",
    "\n",
    "    lat1 = radians(kwargs['pick_lat'])\n",
    "    lon1 = radians(kwargs['pick_lon'])\n",
    "    lat2 = radians(kwargs['drop_lat'])\n",
    "    lon2 = radians(kwargs['drop_lon'])\n",
    "\n",
    "    dlon = lon2 - lon1\n",
    "    dlat = lat2 - lat1\n",
    "\n",
    "    a = sin(dlat / 2)**2 + cos(lat1) * cos(lat2) * sin(dlon / 2)**2\n",
    "    c = 2 * atan2(sqrt(a), sqrt(1 - a))\n",
    "\n",
    "    return R * c\n"
   ]
  },
  {
   "cell_type": "code",
   "execution_count": 4,
   "metadata": {},
   "outputs": [],
   "source": [
    "def format_df(dataFrame):\n",
    "    \n",
    "    df = dataFrame\n",
    "    df = df[~df.index.duplicated()]\n",
    "    \n",
    "    #calculatre the distance\n",
    "    df['distance'] = [calculate_distance(**df[['pick_lat', 'pick_lon', 'drop_lat', 'drop_lon']].iloc[i].to_dict()) for i in range(df.shape[0])]\n",
    "    \n",
    "    #calculate the time difference between pickup and drop time in seconds\n",
    "    df['time_difference'] = (pd.DatetimeIndex(df['drop_time']) - pd.DatetimeIndex(df['pickup_time'])).seconds\n",
    "    \n",
    "    #fill the missing values for the duration  \n",
    "    df.loc[(pd.isnull(df.duration)), 'duration'] = df['duration'].mean()\n",
    "\n",
    "    #fill the missing values for additional_fare\n",
    "    df.loc[(pd.isnull(df.additional_fare)), 'additional_fare'] = df['additional_fare'].mean()\n",
    "    \n",
    "    #fill the missing values for meter_waiting_till_pickup\n",
    "    df.loc[(pd.isnull(df.meter_waiting_till_pickup)), 'meter_waiting_till_pickup'] = df['meter_waiting_till_pickup'].mean()\n",
    "    \n",
    "    #fill the missing values for meter_waiting\n",
    "    df.loc[(pd.isnull(df.meter_waiting)), 'meter_waiting'] = df['meter_waiting'].mean()\n",
    "    \n",
    "\n",
    "    #fill the missing values for meter_waiting_fare\n",
    "    df.loc[(pd.isnull(df.meter_waiting_fare)), 'meter_waiting_fare'] = df['meter_waiting_fare'].mean()\n",
    "\n",
    "    #fill the missing values for fare\n",
    "    df.loc[(pd.isnull(df.fare)), 'fare'] = df['fare'].mean()\n",
    "    \n",
    "\n",
    "    df = df.drop(['pickup_time','drop_time','pick_lat','pick_lon','drop_lat','drop_lon'], axis = 1) \n",
    "    \n",
    "    \n",
    "    return df"
   ]
  },
  {
   "cell_type": "code",
   "execution_count": 5,
   "metadata": {},
   "outputs": [
    {
     "name": "stderr",
     "output_type": "stream",
     "text": [
      "C:\\Users\\X512\\anaconda3\\lib\\site-packages\\ipykernel_launcher.py:7: SettingWithCopyWarning: \n",
      "A value is trying to be set on a copy of a slice from a DataFrame.\n",
      "Try using .loc[row_indexer,col_indexer] = value instead\n",
      "\n",
      "See the caveats in the documentation: https://pandas.pydata.org/pandas-docs/stable/user_guide/indexing.html#returning-a-view-versus-a-copy\n",
      "  import sys\n",
      "C:\\Users\\X512\\anaconda3\\lib\\site-packages\\ipykernel_launcher.py:10: SettingWithCopyWarning: \n",
      "A value is trying to be set on a copy of a slice from a DataFrame.\n",
      "Try using .loc[row_indexer,col_indexer] = value instead\n",
      "\n",
      "See the caveats in the documentation: https://pandas.pydata.org/pandas-docs/stable/user_guide/indexing.html#returning-a-view-versus-a-copy\n",
      "  # Remove the CWD from sys.path while we load stuff.\n",
      "C:\\Users\\X512\\anaconda3\\lib\\site-packages\\pandas\\core\\indexing.py:965: SettingWithCopyWarning: \n",
      "A value is trying to be set on a copy of a slice from a DataFrame.\n",
      "Try using .loc[row_indexer,col_indexer] = value instead\n",
      "\n",
      "See the caveats in the documentation: https://pandas.pydata.org/pandas-docs/stable/user_guide/indexing.html#returning-a-view-versus-a-copy\n",
      "  self.obj[item] = s\n"
     ]
    }
   ],
   "source": [
    "newdf = format_df(features_df)\n",
    "labels_df = labels_df[~labels_df.index.duplicated()]\n"
   ]
  },
  {
   "cell_type": "code",
   "execution_count": 9,
   "metadata": {},
   "outputs": [],
   "source": [
    "from sklearn.preprocessing import StandardScaler\n",
    "\n",
    "scaler = StandardScaler()\n",
    "newdf[['additional_fare', 'duration','meter_waiting','meter_waiting_fare','meter_waiting_till_pickup','fare','distance','time_difference']] = scaler.fit_transform(newdf[['additional_fare', 'duration','meter_waiting','meter_waiting_fare','meter_waiting_till_pickup','fare','distance','time_difference']])\n",
    "# numeric_cols = newdf.columns[newdf.dtypes != \"object\"].values"
   ]
  },
  {
   "cell_type": "code",
   "execution_count": null,
   "metadata": {},
   "outputs": [],
   "source": []
  }
 ],
 "metadata": {
  "kernelspec": {
   "display_name": "Python 3",
   "language": "python",
   "name": "python3"
  },
  "language_info": {
   "codemirror_mode": {
    "name": "ipython",
    "version": 3
   },
   "file_extension": ".py",
   "mimetype": "text/x-python",
   "name": "python",
   "nbconvert_exporter": "python",
   "pygments_lexer": "ipython3",
   "version": "3.7.6"
  }
 },
 "nbformat": 4,
 "nbformat_minor": 4
}
