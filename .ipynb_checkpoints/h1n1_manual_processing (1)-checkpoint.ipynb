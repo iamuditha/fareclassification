{
 "cells": [
  {
   "cell_type": "code",
   "execution_count": 50,
   "metadata": {},
   "outputs": [],
   "source": [
    "from pathlib import Path\n",
    "\n",
    "import numpy as np\n",
    "import pandas as pd\n",
    "\n",
    "pd.set_option(\"display.max_columns\", 100)\n",
    "\n",
    "DATA_PATH = Path.cwd().parent / \"data_mining_project\" \n",
    "\n",
    "from sklearn.impute import MissingIndicator\n",
    "from sklearn.preprocessing import StandardScaler, OneHotEncoder, OrdinalEncoder\n",
    "from sklearn.impute import SimpleImputer\n",
    "from sklearn.compose import ColumnTransformer\n",
    "\n",
    "from sklearn.multioutput import MultiOutputClassifier\n",
    "from sklearn.pipeline import Pipeline\n",
    "from sklearn.model_selection import train_test_split\n",
    "from sklearn.metrics import roc_auc_score\n",
    "\n",
    "RANDOM_SEED = 6    # Set a random seed for reproducibility!\n",
    "\n",
    "from sklearn.linear_model import LogisticRegression\n",
    "from sklearn.svm import SVC\n",
    "from sklearn.naive_bayes import MultinomialNB\n",
    "from sklearn.tree import DecisionTreeClassifier\n",
    "from sklearn.neighbors import KNeighborsClassifier\n",
    "from sklearn.neighbors import NearestNeighbors\n",
    "from sklearn.neural_network import MLPClassifier\n",
    "from sklearn.ensemble import RandomForestClassifier, AdaBoostClassifier\n",
    "from sklearn.naive_bayes import GaussianNB\n",
    "from sklearn.ensemble import RandomForestRegressor\n",
    "from xgboost import XGBClassifier\n",
    "from sklearn.ensemble import GradientBoostingClassifier\n",
    "from sklearn.ensemble import BaggingClassifier\n",
    "import eli5\n",
    "from sklearn.preprocessing import PolynomialFeatures\n",
    "import math"
   ]
  },
  {
   "cell_type": "code",
   "execution_count": null,
   "metadata": {},
   "outputs": [],
   "source": []
  },
  {
   "cell_type": "code",
   "execution_count": null,
   "metadata": {},
   "outputs": [],
   "source": []
  },
  {
   "cell_type": "code",
   "execution_count": null,
   "metadata": {},
   "outputs": [],
   "source": []
  },
  {
   "cell_type": "code",
   "execution_count": null,
   "metadata": {},
   "outputs": [],
   "source": []
  },
  {
   "cell_type": "code",
   "execution_count": null,
   "metadata": {},
   "outputs": [],
   "source": [
    "\n"
   ]
  },
  {
   "cell_type": "code",
   "execution_count": null,
   "metadata": {},
   "outputs": [],
   "source": [
    "\n",
    "\n",
    "                       "
   ]
  },
  {
   "cell_type": "code",
   "execution_count": null,
   "metadata": {},
   "outputs": [],
   "source": []
  },
  {
   "cell_type": "code",
   "execution_count": null,
   "metadata": {},
   "outputs": [],
   "source": []
  },
  {
   "cell_type": "code",
   "execution_count": null,
   "metadata": {},
   "outputs": [],
   "source": []
  },
  {
   "cell_type": "code",
   "execution_count": null,
   "metadata": {},
   "outputs": [],
   "source": []
  },
  {
   "cell_type": "code",
   "execution_count": null,
   "metadata": {},
   "outputs": [],
   "source": []
  },
  {
   "cell_type": "code",
   "execution_count": null,
   "metadata": {},
   "outputs": [],
   "source": []
  },
  {
   "cell_type": "code",
   "execution_count": null,
   "metadata": {},
   "outputs": [],
   "source": []
  },
  {
   "cell_type": "code",
   "execution_count": null,
   "metadata": {},
   "outputs": [],
   "source": []
  },
  {
   "cell_type": "code",
   "execution_count": 51,
   "metadata": {},
   "outputs": [],
   "source": [
    "\n"
   ]
  },
  {
   "cell_type": "code",
   "execution_count": 65,
   "metadata": {},
   "outputs": [],
   "source": [
    "def formatFeatures(dataFrame, datatype = 0):\n",
    "    df = dataFrame\n",
    "    all_features = df.columns.values\n",
    "    df.dropna(axis=0, thresh=1, inplace=True)\n",
    "    \n",
    "    df.replace({999.0: np.NaN}, inplace=True)\n",
    "    indicator = MissingIndicator(missing_values=np.NaN)\n",
    "    indicator = indicator.fit_transform(df)\n",
    "    indicator = pd.DataFrame(indicator,columns=[\"ind\"+str(i) for i in range(30)], index=dataFrame.index)\n",
    "    \n",
    "    imp_numerical = SimpleImputer(strategy='median',missing_values=np.nan)\n",
    "    imp_catagorical = SimpleImputer(strategy='constant',missing_values=np.nan)\n",
    "    \n",
    "    df[df.columns[df.dtypes != \"object\"].values] = imp_numerical.fit_transform(df[df.columns[df.dtypes != \"object\"].values])\n",
    "    df[df.columns[df.dtypes == \"object\"].values] = imp_catagorical.fit_transform(df[df.columns[df.dtypes == \"object\"].values])\n",
    "    \n",
    "    numerical_features = df.columns[df.dtypes != \"object\"]\n",
    "    poly = PolynomialFeatures(degree=3, interaction_only=True)\n",
    "    polynomials = pd.DataFrame(poly\n",
    "                               .fit_transform(df[['h1n1_concern','doctor_recc_h1n1','opinion_h1n1_vacc_effective']]),columns=[\"poly\"+str(i) for i in range(8)],index=dataFrame.index)\n",
    "    df = pd.concat([df,indicator, polynomials], axis=1)\n",
    "    \n",
    "    \n",
    "    ordinal_features = ['education','income_poverty']\n",
    "    category_map = {'education': [ 'missing_value','< 12 Years', '12 Years', 'Some College','College Graduate'], \n",
    "                    'income_poverty': ['missing_value', 'Below Poverty', '<= $75,000, Above Poverty', '> $75,000']}\n",
    "\n",
    "\n",
    "    for i in ordinal_features:\n",
    "        cat = pd.Categorical(df[i], categories= category_map.get(i),ordered=True)\n",
    "        cat.fillna('missing_value')\n",
    "        labels, unique = pd.factorize(cat, sort=True)\n",
    "        df[i] = labels\n",
    "\n",
    "    onehot = OneHotEncoder(dtype=np.int, sparse=True, handle_unknown='ignore')\n",
    "    current_cat_col = df.columns[df.dtypes == \"object\"].values\n",
    "    nominals = pd.DataFrame(onehot.fit_transform(df[current_cat_col]).toarray(),\n",
    "                           columns= [\"nominal\"+str(i) for i in range(80)], index=dataFrame.index)\n",
    "\n",
    "    df = df.drop(current_cat_col,axis=1)\n",
    "    df = pd.concat([df, nominals], axis=1)\n",
    "    \n",
    "    allCols = df.columns.values\n",
    "    for i in allCols:\n",
    "        scaler = StandardScaler()\n",
    "        df[i] = scaler.fit_transform(df[i].values.reshape(-1,1))\n",
    "    features_df_norm_l2 = list(math.sqrt(sum(list((i**2) for i in df.iloc[r]))) \n",
    "                           for r in range(len(df)))\n",
    "    print(len(features_df_norm_l2))\n",
    "    print(df.shape)\n",
    "    for index, row in df.iterrows():\n",
    "        tempIndex = index\n",
    "        if datatype == 1:\n",
    "            tempIndex -= 26707\n",
    "           \n",
    "        \n",
    "        rowt = row/features_df_norm_l2[tempIndex]\n",
    "        df.loc[index] = rowt\n",
    "    return df"
   ]
  },
  {
   "cell_type": "code",
   "execution_count": 66,
   "metadata": {},
   "outputs": [
    {
     "name": "stdout",
     "output_type": "stream",
     "text": [
      "26707\n",
      "(26707, 143)\n"
     ]
    }
   ],
   "source": [
    "features_dfx = pd.read_csv(\n",
    "    DATA_PATH / \"training_set_features.csv\", \n",
    "    index_col=\"respondent_id\"\n",
    ")\n",
    "labels_dfx = pd.read_csv(\n",
    "    DATA_PATH / \"training_set_labels.csv\", \n",
    "    index_col=\"respondent_id\"\n",
    ")\n",
    "features_dfx = formatFeatures(features_dfx)\n",
    "X_train, X_eval, y_train, y_eval = train_test_split(\n",
    "    features_dfx,\n",
    "    labels_dfx['h1n1_vaccine'],\n",
    "    test_size=0.33,\n",
    "    shuffle=True,\n",
    "    stratify=labels_dfx['h1n1_vaccine'],\n",
    "    random_state=14\n",
    ")\n",
    "\n",
    "\n"
   ]
  },
  {
   "cell_type": "code",
   "execution_count": null,
   "metadata": {},
   "outputs": [],
   "source": [
    "#estimators = MultiOutputClassifier(\n",
    " #   estimator=MLPClassifier(solver='lbfgs', alpha=.55, hidden_layer_sizes=(4,2 ), random_state=1, max_iter=10000000)\n",
    "#)\n",
    "#estimators = MultiOutputClassifier(\n",
    " #   estimator=SVC(gamma='auto', probability=True),\n",
    "#)\n",
    "estimators =LogisticRegression(penalty=\"l2\", C=1,solver='lbfgs',max_iter=1000000)\n",
    "\n",
    "solver = 'lbfgs'\n",
    "alpha = 32\n",
    "hidden_layer_sizes=(3,2)\n",
    "random_state=0\n",
    "max_iter= 10000000\n",
    "\n",
    "activation='tanh'\n",
    "estimators=MLPClassifier(solver=solver, alpha=alpha, hidden_layer_sizes=hidden_layer_sizes, random_state=random_state,\n",
    "                         max_iter=max_iter, activation=activation)\n",
    "\n",
    "min_child_weight=0\n",
    "max_depth=3\n",
    "gamma=1.3\n",
    "colsample_bytree=0.8\n",
    "subsample=0.8\n",
    "n_estimators=160\n",
    "estimators = XGBClassifier(min_child_weight=min_child_weight,max_depth=max_depth, \n",
    "                           gamma=gamma,colsample_bytree=colsample_bytree,subsample=subsample,\n",
    "                           n_estimators=n_estimators\n",
    "                          )\n",
    "#estimatorsX = AdaBoostClassifier(n_estimators=10, random_state=0, learning_rate = 1, \n",
    " #                               algorithm='SAMME.R')\n",
    "\n",
    "#estimatorsX = GradientBoostingClassifier(n_estimators=165, learning_rate=0.1, max_features=10, max_depth=6, random_state=11)\n",
    "\n",
    "#estimators = BaggingClassifier(base_estimator=estimatorsX,n_estimators=50)"
   ]
  },
  {
   "cell_type": "code",
   "execution_count": 67,
   "metadata": {},
   "outputs": [],
   "source": [
    "estimators.fit(X_train, y_train)\n",
    "None"
   ]
  },
  {
   "cell_type": "code",
   "execution_count": 68,
   "metadata": {},
   "outputs": [
    {
     "name": "stdout",
     "output_type": "stream",
     "text": [
      "0.8624704078529944\n"
     ]
    }
   ],
   "source": [
    "preds = estimators.predict_proba(X_eval)\n",
    "y_preds = pd.DataFrame(\n",
    "    preds,\n",
    "    index = y_eval.index\n",
    ")\n",
    "print(roc_auc_score(y_eval, y_preds[1]))\n"
   ]
  },
  {
   "cell_type": "code",
   "execution_count": null,
   "metadata": {},
   "outputs": [],
   "source": [
    "\n"
   ]
  },
  {
   "cell_type": "code",
   "execution_count": null,
   "metadata": {},
   "outputs": [],
   "source": []
  },
  {
   "cell_type": "code",
   "execution_count": null,
   "metadata": {},
   "outputs": [],
   "source": []
  },
  {
   "cell_type": "code",
   "execution_count": 69,
   "metadata": {},
   "outputs": [
    {
     "name": "stdout",
     "output_type": "stream",
     "text": [
      "26708\n",
      "(26708, 143)\n"
     ]
    },
    {
     "data": {
      "text/plain": [
       "array([[0.852651  , 0.14734901],\n",
       "       [0.9808068 , 0.0191932 ],\n",
       "       [0.8407397 , 0.1592603 ],\n",
       "       ...,\n",
       "       [0.8158726 , 0.18412738],\n",
       "       [0.980899  , 0.01910101],\n",
       "       [0.40992522, 0.5900748 ]], dtype=float32)"
      ]
     },
     "execution_count": 69,
     "metadata": {},
     "output_type": "execute_result"
    }
   ],
   "source": [
    "test_features_dfx = pd.read_csv(DATA_PATH / \"test_set_features.csv\", \n",
    "                               index_col=\"respondent_id\")\n",
    "\n",
    "test_features_dfx = formatFeatures(test_features_dfx,1)\n",
    "\n",
    "test_probas = estimators.predict_proba(test_features_dfx)\n",
    "\n",
    "test_probas"
   ]
  },
  {
   "cell_type": "code",
   "execution_count": 72,
   "metadata": {},
   "outputs": [],
   "source": [
    "test_preds = pd.DataFrame(\n",
    "    test_probas,\n",
    "    index = test_features_dfx.index\n",
    ")"
   ]
  },
  {
   "cell_type": "code",
   "execution_count": 78,
   "metadata": {},
   "outputs": [],
   "source": [
    "submission_df = pd.read_csv(DATA_PATH / \"submission_format.csv\", \n",
    "                            index_col=\"respondent_id\")"
   ]
  },
  {
   "cell_type": "code",
   "execution_count": 79,
   "metadata": {},
   "outputs": [
    {
     "data": {
      "text/html": [
       "<div>\n",
       "<style scoped>\n",
       "    .dataframe tbody tr th:only-of-type {\n",
       "        vertical-align: middle;\n",
       "    }\n",
       "\n",
       "    .dataframe tbody tr th {\n",
       "        vertical-align: top;\n",
       "    }\n",
       "\n",
       "    .dataframe thead th {\n",
       "        text-align: right;\n",
       "    }\n",
       "</style>\n",
       "<table border=\"1\" class=\"dataframe\">\n",
       "  <thead>\n",
       "    <tr style=\"text-align: right;\">\n",
       "      <th></th>\n",
       "      <th>h1n1_vaccine</th>\n",
       "      <th>seasonal_vaccine</th>\n",
       "    </tr>\n",
       "    <tr>\n",
       "      <th>respondent_id</th>\n",
       "      <th></th>\n",
       "      <th></th>\n",
       "    </tr>\n",
       "  </thead>\n",
       "  <tbody>\n",
       "    <tr>\n",
       "      <th>26707</th>\n",
       "      <td>0.5</td>\n",
       "      <td>0.7</td>\n",
       "    </tr>\n",
       "    <tr>\n",
       "      <th>26708</th>\n",
       "      <td>0.5</td>\n",
       "      <td>0.7</td>\n",
       "    </tr>\n",
       "    <tr>\n",
       "      <th>26709</th>\n",
       "      <td>0.5</td>\n",
       "      <td>0.7</td>\n",
       "    </tr>\n",
       "    <tr>\n",
       "      <th>26710</th>\n",
       "      <td>0.5</td>\n",
       "      <td>0.7</td>\n",
       "    </tr>\n",
       "    <tr>\n",
       "      <th>26711</th>\n",
       "      <td>0.5</td>\n",
       "      <td>0.7</td>\n",
       "    </tr>\n",
       "  </tbody>\n",
       "</table>\n",
       "</div>"
      ],
      "text/plain": [
       "               h1n1_vaccine  seasonal_vaccine\n",
       "respondent_id                                \n",
       "26707                   0.5               0.7\n",
       "26708                   0.5               0.7\n",
       "26709                   0.5               0.7\n",
       "26710                   0.5               0.7\n",
       "26711                   0.5               0.7"
      ]
     },
     "execution_count": 79,
     "metadata": {},
     "output_type": "execute_result"
    }
   ],
   "source": [
    "submission_df.head()"
   ]
  },
  {
   "cell_type": "code",
   "execution_count": 80,
   "metadata": {},
   "outputs": [
    {
     "data": {
      "text/html": [
       "<div>\n",
       "<style scoped>\n",
       "    .dataframe tbody tr th:only-of-type {\n",
       "        vertical-align: middle;\n",
       "    }\n",
       "\n",
       "    .dataframe tbody tr th {\n",
       "        vertical-align: top;\n",
       "    }\n",
       "\n",
       "    .dataframe thead th {\n",
       "        text-align: right;\n",
       "    }\n",
       "</style>\n",
       "<table border=\"1\" class=\"dataframe\">\n",
       "  <thead>\n",
       "    <tr style=\"text-align: right;\">\n",
       "      <th></th>\n",
       "      <th>h1n1_vaccine</th>\n",
       "      <th>seasonal_vaccine</th>\n",
       "    </tr>\n",
       "    <tr>\n",
       "      <th>respondent_id</th>\n",
       "      <th></th>\n",
       "      <th></th>\n",
       "    </tr>\n",
       "  </thead>\n",
       "  <tbody>\n",
       "    <tr>\n",
       "      <th>26707</th>\n",
       "      <td>0.147349</td>\n",
       "      <td>0.7</td>\n",
       "    </tr>\n",
       "    <tr>\n",
       "      <th>26708</th>\n",
       "      <td>0.019193</td>\n",
       "      <td>0.7</td>\n",
       "    </tr>\n",
       "    <tr>\n",
       "      <th>26709</th>\n",
       "      <td>0.159260</td>\n",
       "      <td>0.7</td>\n",
       "    </tr>\n",
       "    <tr>\n",
       "      <th>26710</th>\n",
       "      <td>0.667030</td>\n",
       "      <td>0.7</td>\n",
       "    </tr>\n",
       "    <tr>\n",
       "      <th>26711</th>\n",
       "      <td>0.278887</td>\n",
       "      <td>0.7</td>\n",
       "    </tr>\n",
       "  </tbody>\n",
       "</table>\n",
       "</div>"
      ],
      "text/plain": [
       "               h1n1_vaccine  seasonal_vaccine\n",
       "respondent_id                                \n",
       "26707              0.147349               0.7\n",
       "26708              0.019193               0.7\n",
       "26709              0.159260               0.7\n",
       "26710              0.667030               0.7\n",
       "26711              0.278887               0.7"
      ]
     },
     "execution_count": 80,
     "metadata": {},
     "output_type": "execute_result"
    }
   ],
   "source": [
    "# Make sure we have the rows in the same order\n",
    "np.testing.assert_array_equal(test_features_dfx.index.values, \n",
    "                              submission_df.index.values)\n",
    "\n",
    "# Save predictions to submission data frame\n",
    "submission_df[\"h1n1_vaccine\"] = test_preds[1]\n",
    "\n",
    "submission_df.head()"
   ]
  },
  {
   "cell_type": "code",
   "execution_count": 81,
   "metadata": {},
   "outputs": [],
   "source": [
    "submission_df.to_csv(DATA_PATH / 'my_submission.csv', index=True)"
   ]
  },
  {
   "cell_type": "code",
   "execution_count": null,
   "metadata": {},
   "outputs": [],
   "source": []
  }
 ],
 "metadata": {
  "kernelspec": {
   "display_name": "Python 3",
   "language": "python",
   "name": "python3"
  },
  "language_info": {
   "codemirror_mode": {
    "name": "ipython",
    "version": 3
   },
   "file_extension": ".py",
   "mimetype": "text/x-python",
   "name": "python",
   "nbconvert_exporter": "python",
   "pygments_lexer": "ipython3",
   "version": "3.7.6"
  }
 },
 "nbformat": 4,
 "nbformat_minor": 4
}
